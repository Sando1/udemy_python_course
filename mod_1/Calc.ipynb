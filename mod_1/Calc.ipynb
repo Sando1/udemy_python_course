{
 "cells": [
  {
   "cell_type": "code",
   "execution_count": 2,
   "metadata": {},
   "outputs": [
    {
     "name": "stdout",
     "output_type": "stream",
     "text": [
      "My Calculator\n",
      "Type 'Q' to exit\n",
      "\n",
      "Enter equation: 4+5\n",
      "Result 9\n",
      "9-3\n",
      "Result 6\n",
      "6*4\n",
      "Result 24\n",
      "24Q\n"
     ]
    }
   ],
   "source": [
    "# Program that calculates anything given using the eval function \n",
    "# The eval function is dangerous to use given the users' motivations\n",
    "# Thus, a check has been added to remove everthing but numeric characters and signs \n",
    "# The user is only prompted once to enter the equation becasue the equation will be continued then on \n",
    "\n",
    "import re\n",
    "\n",
    "print('My Calculator')\n",
    "print(\"Type 'Q' to exit\\n\")\n",
    "\n",
    "run = True\n",
    "result = 0\n",
    "\n",
    "def performMath():\n",
    "    global run\n",
    "    global result\n",
    "    equation = \"\"\n",
    "\n",
    "    if result == 0:\n",
    "        equation = input('Enter equation: ')\n",
    "    else:\n",
    "        equation = input(str(result))\n",
    "\n",
    "    if equation == 'Q':\n",
    "        run = False\n",
    "    else:\n",
    "        equation = re.sub('[a-zA-Z,.:()\" \"]','',equation)\n",
    "\n",
    "        if result == 0:\n",
    "            result = eval(equation)\n",
    "        else:\n",
    "            result = eval(str(result) + equation)\n",
    "        print(\"Result {}\".format(result))\n",
    "\n",
    "while run:\n",
    "    performMath()\n",
    "\n"
   ]
  },
  {
   "cell_type": "code",
   "execution_count": null,
   "metadata": {},
   "outputs": [],
   "source": []
  },
  {
   "cell_type": "code",
   "execution_count": null,
   "metadata": {},
   "outputs": [],
   "source": []
  }
 ],
 "metadata": {
  "kernelspec": {
   "display_name": "Python 3",
   "language": "python",
   "name": "python3"
  },
  "language_info": {
   "codemirror_mode": {
    "name": "ipython",
    "version": 3
   },
   "file_extension": ".py",
   "mimetype": "text/x-python",
   "name": "python",
   "nbconvert_exporter": "python",
   "pygments_lexer": "ipython3",
   "version": "3.6.5"
  }
 },
 "nbformat": 4,
 "nbformat_minor": 2
}
